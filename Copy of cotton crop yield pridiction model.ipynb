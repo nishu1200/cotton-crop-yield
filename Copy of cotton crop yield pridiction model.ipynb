{
 "cells": [
  {
   "cell_type": "markdown",
   "metadata": {
    "id": "Ihnhttr_fE2z"
   },
   "source": [
    "importing library"
   ]
  },
  {
   "cell_type": "code",
   "execution_count": 11,
   "metadata": {
    "executionInfo": {
     "elapsed": 603,
     "status": "ok",
     "timestamp": 1733666810083,
     "user": {
      "displayName": "Aakriti Hardel",
      "userId": "14054904044420853988"
     },
     "user_tz": -330
    },
    "id": "XGLGH2L5RjKH"
   },
   "outputs": [],
   "source": [
    "import pandas as pd\n",
    "import numpy as np\n",
    "import matplotlib.pyplot as plt\n",
    "import seaborn as sns"
   ]
  },
  {
   "cell_type": "code",
   "execution_count": 15,
   "metadata": {
    "colab": {
     "base_uri": "https://localhost:8080/",
     "height": 571
    },
    "executionInfo": {
     "elapsed": 1188,
     "status": "ok",
     "timestamp": 1733666811888,
     "user": {
      "displayName": "Aakriti Hardel",
      "userId": "14054904044420853988"
     },
     "user_tz": -330
    },
    "id": "nbS5xJq7RlZD",
    "outputId": "b61bef78-beb0-44e1-83f4-b6527d406926",
    "scrolled": true
   },
   "outputs": [
    {
     "ename": "SyntaxError",
     "evalue": "(unicode error) 'unicodeescape' codec can't decode bytes in position 2-3: truncated \\UXXXXXXXX escape (2363989673.py, line 1)",
     "output_type": "error",
     "traceback": [
      "\u001b[1;36m  Cell \u001b[1;32mIn[15], line 1\u001b[1;36m\u001b[0m\n\u001b[1;33m    df = pd.read_csv(\"C:\\Users\\Sashi\\Desktop\\jupyter projects\\final_dataset_123.csv\",encoding='latin-1')\u001b[0m\n\u001b[1;37m                     ^\u001b[0m\n\u001b[1;31mSyntaxError\u001b[0m\u001b[1;31m:\u001b[0m (unicode error) 'unicodeescape' codec can't decode bytes in position 2-3: truncated \\UXXXXXXXX escape\n"
     ]
    }
   ],
   "source": [
    "df = pd.read_csv(\"C:\\Users\\Sashi\\Desktop\\jupyter projects\\final_dataset_123.csv\",encoding='latin-1')\n",
    "df.head(10)"
   ]
  },
  {
   "cell_type": "code",
   "execution_count": 16,
   "metadata": {
    "executionInfo": {
     "elapsed": 39,
     "status": "ok",
     "timestamp": 1733666811889,
     "user": {
      "displayName": "Aakriti Hardel",
      "userId": "14054904044420853988"
     },
     "user_tz": -330
    },
    "id": "uyGod5TnTyUW"
   },
   "outputs": [
    {
     "ename": "NameError",
     "evalue": "name 'df' is not defined",
     "output_type": "error",
     "traceback": [
      "\u001b[1;31m---------------------------------------------------------------------------\u001b[0m",
      "\u001b[1;31mNameError\u001b[0m                                 Traceback (most recent call last)",
      "Cell \u001b[1;32mIn[16], line 1\u001b[0m\n\u001b[1;32m----> 1\u001b[0m df\u001b[38;5;241m.\u001b[39mdrop(\u001b[38;5;124m'\u001b[39m\u001b[38;5;124mCrop\u001b[39m\u001b[38;5;124m'\u001b[39m,axis\u001b[38;5;241m=\u001b[39m\u001b[38;5;241m1\u001b[39m,inplace\u001b[38;5;241m=\u001b[39m\u001b[38;5;28;01mTrue\u001b[39;00m)\n",
      "\u001b[1;31mNameError\u001b[0m: name 'df' is not defined"
     ]
    }
   ],
   "source": [
    "df.drop('Crop',axis=1,inplace=True)"
   ]
  },
  {
   "cell_type": "code",
   "execution_count": null,
   "metadata": {
    "executionInfo": {
     "elapsed": 37,
     "status": "ok",
     "timestamp": 1733666811889,
     "user": {
      "displayName": "Aakriti Hardel",
      "userId": "14054904044420853988"
     },
     "user_tz": -330
    },
    "id": "8_UR1tNl3aJQ"
   },
   "outputs": [],
   "source": [
    "df.drop('Season',axis=1,inplace=True)"
   ]
  },
  {
   "cell_type": "code",
   "execution_count": null,
   "metadata": {},
   "outputs": [],
   "source": []
  },
  {
   "cell_type": "code",
   "execution_count": null,
   "metadata": {},
   "outputs": [],
   "source": []
  },
  {
   "cell_type": "code",
   "execution_count": null,
   "metadata": {
    "executionInfo": {
     "elapsed": 37,
     "status": "ok",
     "timestamp": 1733666811889,
     "user": {
      "displayName": "Aakriti Hardel",
      "userId": "14054904044420853988"
     },
     "user_tz": -330
    },
    "id": "DwL853yV3evD"
   },
   "outputs": [],
   "source": [
    "df.drop('Crop_Year',axis=1,inplace=True)"
   ]
  },
  {
   "cell_type": "code",
   "execution_count": null,
   "metadata": {
    "colab": {
     "base_uri": "https://localhost:8080/",
     "height": 206
    },
    "executionInfo": {
     "elapsed": 36,
     "status": "ok",
     "timestamp": 1733666811889,
     "user": {
      "displayName": "Aakriti Hardel",
      "userId": "14054904044420853988"
     },
     "user_tz": -330
    },
    "id": "kfiP5ReqUGah",
    "outputId": "81f1e6cb-bba0-4084-c3e0-b064fdd710a3"
   },
   "outputs": [],
   "source": [
    "df.head()"
   ]
  },
  {
   "cell_type": "code",
   "execution_count": null,
   "metadata": {
    "colab": {
     "base_uri": "https://localhost:8080/"
    },
    "executionInfo": {
     "elapsed": 36,
     "status": "ok",
     "timestamp": 1733666811890,
     "user": {
      "displayName": "Aakriti Hardel",
      "userId": "14054904044420853988"
     },
     "user_tz": -330
    },
    "id": "RCZMnhQsUgms",
    "outputId": "5001707e-ecb5-4877-a350-570b6674d492"
   },
   "outputs": [],
   "source": [
    "df.shape"
   ]
  },
  {
   "cell_type": "code",
   "execution_count": null,
   "metadata": {
    "colab": {
     "base_uri": "https://localhost:8080/",
     "height": 366
    },
    "executionInfo": {
     "elapsed": 33,
     "status": "ok",
     "timestamp": 1733666811890,
     "user": {
      "displayName": "Aakriti Hardel",
      "userId": "14054904044420853988"
     },
     "user_tz": -330
    },
    "id": "mslY8UApUpGT",
    "outputId": "75834805-5242-4db3-d0ed-355e761dc78d"
   },
   "outputs": [],
   "source": [
    "df.isnull().sum()"
   ]
  },
  {
   "cell_type": "code",
   "execution_count": null,
   "metadata": {
    "colab": {
     "base_uri": "https://localhost:8080/"
    },
    "executionInfo": {
     "elapsed": 31,
     "status": "ok",
     "timestamp": 1733666811890,
     "user": {
      "displayName": "Aakriti Hardel",
      "userId": "14054904044420853988"
     },
     "user_tz": -330
    },
    "id": "HOzvEt5pVRj_",
    "outputId": "769e0cc0-4748-4c8a-fa7c-9425d66b83bc"
   },
   "outputs": [],
   "source": [
    "df.info()"
   ]
  },
  {
   "cell_type": "code",
   "execution_count": null,
   "metadata": {
    "colab": {
     "base_uri": "https://localhost:8080/",
     "height": 300
    },
    "executionInfo": {
     "elapsed": 30,
     "status": "ok",
     "timestamp": 1733666811890,
     "user": {
      "displayName": "Aakriti Hardel",
      "userId": "14054904044420853988"
     },
     "user_tz": -330
    },
    "id": "E_ZdtSkvVmyu",
    "outputId": "3ee7de17-80cd-42d7-8f7b-c5dcd2ae0923"
   },
   "outputs": [],
   "source": [
    "df.describe()"
   ]
  },
  {
   "cell_type": "code",
   "execution_count": null,
   "metadata": {
    "colab": {
     "base_uri": "https://localhost:8080/",
     "height": 458
    },
    "executionInfo": {
     "elapsed": 28,
     "status": "ok",
     "timestamp": 1733666811890,
     "user": {
      "displayName": "Aakriti Hardel",
      "userId": "14054904044420853988"
     },
     "user_tz": -330
    },
    "id": "-c6x1DB1YcyN",
    "outputId": "00b610e1-92b9-465d-9661-05d09bae6e46"
   },
   "outputs": [],
   "source": [
    "df['ANNUAL RAINFALL (mm)']"
   ]
  },
  {
   "cell_type": "markdown",
   "metadata": {
    "id": "zx1hfgShZo15"
   },
   "source": [
    "# ** Graph**"
   ]
  },
  {
   "cell_type": "code",
   "execution_count": null,
   "metadata": {
    "colab": {
     "base_uri": "https://localhost:8080/",
     "height": 1000
    },
    "executionInfo": {
     "elapsed": 28,
     "status": "ok",
     "timestamp": 1733666811891,
     "user": {
      "displayName": "Aakriti Hardel",
      "userId": "14054904044420853988"
     },
     "user_tz": -330
    },
    "id": "htxl18CxaMaq",
    "outputId": "6c5d2171-2df2-4132-aef2-76a3a6dd48e7"
   },
   "outputs": [],
   "source": [
    "plt.figure(figsize=(10,20))\n",
    "sns.countplot(y=df['State_Name'])"
   ]
  },
  {
   "cell_type": "code",
   "execution_count": null,
   "metadata": {
    "colab": {
     "base_uri": "https://localhost:8080/",
     "height": 1000
    },
    "executionInfo": {
     "elapsed": 12272,
     "status": "ok",
     "timestamp": 1733666824138,
     "user": {
      "displayName": "Aakriti Hardel",
      "userId": "14054904044420853988"
     },
     "user_tz": -330
    },
    "id": "KuI0v8O3bseS",
    "outputId": "e7653f5d-f3ac-465f-d665-ce01fd583dd9"
   },
   "outputs": [],
   "source": [
    "plt.figure(figsize=(10,20))\n",
    "sns.countplot(y=df['Production'])"
   ]
  },
  {
   "cell_type": "code",
   "execution_count": null,
   "metadata": {
    "colab": {
     "base_uri": "https://localhost:8080/",
     "height": 112
    },
    "executionInfo": {
     "elapsed": 21,
     "status": "ok",
     "timestamp": 1733666824139,
     "user": {
      "displayName": "Aakriti Hardel",
      "userId": "14054904044420853988"
     },
     "user_tz": -330
    },
    "id": "U5eqzu7Qlbts",
    "outputId": "f36f3c09-887c-4108-ca4f-9b63c747363c"
   },
   "outputs": [],
   "source": [
    "df.head(2)"
   ]
  },
  {
   "cell_type": "markdown",
   "metadata": {
    "id": "OyBoa_EQ4dBI"
   },
   "source": [
    "# **yield per district**"
   ]
  },
  {
   "cell_type": "code",
   "execution_count": null,
   "metadata": {
    "executionInfo": {
     "elapsed": 19,
     "status": "ok",
     "timestamp": 1733666824140,
     "user": {
      "displayName": "Aakriti Hardel",
      "userId": "14054904044420853988"
     },
     "user_tz": -330
    },
    "id": "mIqstg2JmJtk"
   },
   "outputs": [],
   "source": [
    "state = (df['District_Name'].unique())"
   ]
  },
  {
   "cell_type": "code",
   "execution_count": null,
   "metadata": {
    "executionInfo": {
     "elapsed": 19,
     "status": "ok",
     "timestamp": 1733666824140,
     "user": {
      "displayName": "Aakriti Hardel",
      "userId": "14054904044420853988"
     },
     "user_tz": -330
    },
    "id": "qLGpo52ymcdz"
   },
   "outputs": [],
   "source": [
    "yield_per_state = []\n",
    "for i in state:\n",
    "  yield_per_state.append(df[df['District_Name']==i]['Production'].sum())"
   ]
  },
  {
   "cell_type": "code",
   "execution_count": null,
   "metadata": {
    "colab": {
     "base_uri": "https://localhost:8080/",
     "height": 458
    },
    "executionInfo": {
     "elapsed": 18,
     "status": "ok",
     "timestamp": 1733666824140,
     "user": {
      "displayName": "Aakriti Hardel",
      "userId": "14054904044420853988"
     },
     "user_tz": -330
    },
    "id": "kWJDjYVRm1iE",
    "outputId": "a95fa78d-dbc4-4325-a20d-d730eff63157"
   },
   "outputs": [],
   "source": [
    "df['Production']"
   ]
  },
  {
   "cell_type": "markdown",
   "metadata": {
    "id": "EyIPffECogr2"
   },
   "source": [
    "# **production per state**"
   ]
  },
  {
   "cell_type": "code",
   "execution_count": null,
   "metadata": {
    "colab": {
     "base_uri": "https://localhost:8080/",
     "height": 1000
    },
    "executionInfo": {
     "elapsed": 1093,
     "status": "ok",
     "timestamp": 1733666825217,
     "user": {
      "displayName": "Aakriti Hardel",
      "userId": "14054904044420853988"
     },
     "user_tz": -330
    },
    "id": "-AeJ2BgFnSeK",
    "outputId": "f1100eb4-8cd8-4e47-990a-a9e66738fb9f"
   },
   "outputs": [],
   "source": [
    "plt.figure(figsize=(10,20))\n",
    "sns.barplot(y=yield_per_state,x=state,color='blue')"
   ]
  },
  {
   "cell_type": "markdown",
   "metadata": {
    "id": "6jGquwWv5AY7"
   },
   "source": [
    "# **Train test split reaaranging columns**"
   ]
  },
  {
   "cell_type": "code",
   "execution_count": null,
   "metadata": {
    "executionInfo": {
     "elapsed": 49,
     "status": "ok",
     "timestamp": 1733666825218,
     "user": {
      "displayName": "Aakriti Hardel",
      "userId": "14054904044420853988"
     },
     "user_tz": -330
    },
    "id": "eqFIaqGk4Exg"
   },
   "outputs": [],
   "source": [
    "col =['State_Name','District_Name','temperature ©','humidity(%)','wind speed (m/s)','ANNUAL RAINFALL (mm)','soil type','Area','Production']\n",
    "df = df[col]"
   ]
  },
  {
   "cell_type": "code",
   "execution_count": null,
   "metadata": {
    "colab": {
     "base_uri": "https://localhost:8080/",
     "height": 527
    },
    "executionInfo": {
     "elapsed": 48,
     "status": "ok",
     "timestamp": 1733666825218,
     "user": {
      "displayName": "Aakriti Hardel",
      "userId": "14054904044420853988"
     },
     "user_tz": -330
    },
    "id": "WFmxwoyo7QBA",
    "outputId": "0d97f87e-53c3-4177-b93c-48d94591287d"
   },
   "outputs": [],
   "source": [
    "df"
   ]
  },
  {
   "cell_type": "code",
   "execution_count": null,
   "metadata": {
    "executionInfo": {
     "elapsed": 46,
     "status": "ok",
     "timestamp": 1733666825218,
     "user": {
      "displayName": "Aakriti Hardel",
      "userId": "14054904044420853988"
     },
     "user_tz": -330
    },
    "id": "cBexwAKl7d_h"
   },
   "outputs": [],
   "source": [
    "x = df.drop('Production',axis=1)\n",
    "y = df['Production']"
   ]
  },
  {
   "cell_type": "code",
   "execution_count": null,
   "metadata": {
    "executionInfo": {
     "elapsed": 45,
     "status": "ok",
     "timestamp": 1733666825218,
     "user": {
      "displayName": "Aakriti Hardel",
      "userId": "14054904044420853988"
     },
     "user_tz": -330
    },
    "id": "YbBLR0r17uFf"
   },
   "outputs": [],
   "source": [
    "from sklearn.model_selection import train_test_split\n",
    "x_train,x_test,y_train,y_test = train_test_split(x,y,test_size=0.2,random_state=42)"
   ]
  },
  {
   "cell_type": "code",
   "execution_count": null,
   "metadata": {
    "colab": {
     "base_uri": "https://localhost:8080/"
    },
    "executionInfo": {
     "elapsed": 44,
     "status": "ok",
     "timestamp": 1733666825218,
     "user": {
      "displayName": "Aakriti Hardel",
      "userId": "14054904044420853988"
     },
     "user_tz": -330
    },
    "id": "kRWH4RNw8dN6",
    "outputId": "01037a09-a930-45d7-bd4f-e6c945c04f32"
   },
   "outputs": [],
   "source": [
    "x_train.shape"
   ]
  },
  {
   "cell_type": "code",
   "execution_count": null,
   "metadata": {
    "colab": {
     "base_uri": "https://localhost:8080/"
    },
    "executionInfo": {
     "elapsed": 39,
     "status": "ok",
     "timestamp": 1733666825218,
     "user": {
      "displayName": "Aakriti Hardel",
      "userId": "14054904044420853988"
     },
     "user_tz": -330
    },
    "id": "xPazOx_780v4",
    "outputId": "aaa74ef7-48a6-45c0-94e5-c10ab70f4fc6"
   },
   "outputs": [],
   "source": [
    "x_test.shape"
   ]
  },
  {
   "cell_type": "code",
   "execution_count": null,
   "metadata": {
    "colab": {
     "base_uri": "https://localhost:8080/",
     "height": 423
    },
    "executionInfo": {
     "elapsed": 36,
     "status": "ok",
     "timestamp": 1733666825219,
     "user": {
      "displayName": "Aakriti Hardel",
      "userId": "14054904044420853988"
     },
     "user_tz": -330
    },
    "id": "n_Bx-TVH9GXX",
    "outputId": "97b337e7-b261-47cc-c4fe-8d57f02fd5ce"
   },
   "outputs": [],
   "source": [
    "x_train"
   ]
  },
  {
   "cell_type": "markdown",
   "metadata": {
    "id": "clBC4VDD9eWx"
   },
   "source": [
    "# **converting categorical to numerical and scalling the value**"
   ]
  },
  {
   "cell_type": "code",
   "execution_count": null,
   "metadata": {
    "executionInfo": {
     "elapsed": 34,
     "status": "ok",
     "timestamp": 1733666825219,
     "user": {
      "displayName": "Aakriti Hardel",
      "userId": "14054904044420853988"
     },
     "user_tz": -330
    },
    "id": "erp2q4vy-iJb"
   },
   "outputs": [],
   "source": [
    "from sklearn.preprocessing import OneHotEncoder, StandardScaler # Changed oneHotEncoder to OneHotEncoder\n",
    "from sklearn.compose import ColumnTransformer"
   ]
  },
  {
   "cell_type": "code",
   "execution_count": null,
   "metadata": {
    "executionInfo": {
     "elapsed": 33,
     "status": "ok",
     "timestamp": 1733666825219,
     "user": {
      "displayName": "Aakriti Hardel",
      "userId": "14054904044420853988"
     },
     "user_tz": -330
    },
    "id": "n6t8rEow-0HV"
   },
   "outputs": [],
   "source": [
    "ohe = OneHotEncoder(drop='first')\n",
    "scaler = StandardScaler()"
   ]
  },
  {
   "cell_type": "code",
   "execution_count": null,
   "metadata": {
    "colab": {
     "base_uri": "https://localhost:8080/",
     "height": 206
    },
    "executionInfo": {
     "elapsed": 33,
     "status": "ok",
     "timestamp": 1733666825219,
     "user": {
      "displayName": "Aakriti Hardel",
      "userId": "14054904044420853988"
     },
     "user_tz": -330
    },
    "id": "lQ8m_jIS_auR",
    "outputId": "05b2f982-1ee1-4d9a-b9e5-c881c227746c"
   },
   "outputs": [],
   "source": [
    "x_train.head()"
   ]
  },
  {
   "cell_type": "code",
   "execution_count": null,
   "metadata": {
    "executionInfo": {
     "elapsed": 31,
     "status": "ok",
     "timestamp": 1733666825219,
     "user": {
      "displayName": "Aakriti Hardel",
      "userId": "14054904044420853988"
     },
     "user_tz": -330
    },
    "id": "WRDGfvto_ps_"
   },
   "outputs": [],
   "source": [
    "preprocessing = ColumnTransformer(\n",
    "    transformers=[\n",
    "        ('OneHotEncoder', ohe, [0, 1, 6]),\n",
    "        ('Standerization', scaler, [2, 3, 4, 5, 7])\n",
    "    ],\n",
    "    remainder='passthrough'\n",
    ")"
   ]
  },
  {
   "cell_type": "code",
   "execution_count": null,
   "metadata": {
    "colab": {
     "base_uri": "https://localhost:8080/",
     "height": 134
    },
    "executionInfo": {
     "elapsed": 31,
     "status": "ok",
     "timestamp": 1733666825219,
     "user": {
      "displayName": "Aakriti Hardel",
      "userId": "14054904044420853988"
     },
     "user_tz": -330
    },
    "id": "OGvpg_BdA7R-",
    "outputId": "2619f593-cbcc-4ede-a5d1-4e079c7027b5"
   },
   "outputs": [],
   "source": [
    "preprocessing"
   ]
  },
  {
   "cell_type": "code",
   "execution_count": null,
   "metadata": {
    "executionInfo": {
     "elapsed": 29,
     "status": "ok",
     "timestamp": 1733666825219,
     "user": {
      "displayName": "Aakriti Hardel",
      "userId": "14054904044420853988"
     },
     "user_tz": -330
    },
    "id": "sTfmFLCXCxbj"
   },
   "outputs": [],
   "source": [
    "x_train_dummy = preprocessing.fit_transform(x_train) # Changed preprocesser to preprocessing\n",
    "x_test_dummy = preprocessing.transform(x_test)"
   ]
  },
  {
   "cell_type": "code",
   "execution_count": null,
   "metadata": {
    "colab": {
     "base_uri": "https://localhost:8080/"
    },
    "executionInfo": {
     "elapsed": 29,
     "status": "ok",
     "timestamp": 1733666825219,
     "user": {
      "displayName": "Aakriti Hardel",
      "userId": "14054904044420853988"
     },
     "user_tz": -330
    },
    "id": "H_vnRHTdDBro",
    "outputId": "129847b3-57f6-45f8-babe-feaca84c7fc3"
   },
   "outputs": [],
   "source": [
    "x_train_dummy"
   ]
  },
  {
   "cell_type": "markdown",
   "metadata": {
    "id": "OaPo_kBIAWbG"
   },
   "source": [
    "# **Training model**"
   ]
  },
  {
   "cell_type": "code",
   "execution_count": null,
   "metadata": {
    "executionInfo": {
     "elapsed": 25,
     "status": "ok",
     "timestamp": 1733666825219,
     "user": {
      "displayName": "Aakriti Hardel",
      "userId": "14054904044420853988"
     },
     "user_tz": -330
    },
    "id": "iqN0iYQpfbAB"
   },
   "outputs": [],
   "source": [
    "from sklearn.linear_model import LinearRegression, Lasso, Ridge\n",
    "from sklearn.neighbors import KNeighborsRegressor\n",
    "from sklearn.tree import DecisionTreeRegressor\n",
    "from sklearn.metrics import r2_score, mean_squared_error\n",
    "\n",
    "models = {\n",
    "    'Lr': LinearRegression(),\n",
    "    'Lasso': Lasso(),\n",
    "    'Ridge': Ridge(),\n",
    "    'KNr': KNeighborsRegressor(),\n",
    "    'dtr': DecisionTreeRegressor()\n",
    "}\n"
   ]
  },
  {
   "cell_type": "code",
   "execution_count": null,
   "metadata": {
    "colab": {
     "base_uri": "https://localhost:8080/"
    },
    "executionInfo": {
     "elapsed": 659,
     "status": "ok",
     "timestamp": 1733666825854,
     "user": {
      "displayName": "Aakriti Hardel",
      "userId": "14054904044420853988"
     },
     "user_tz": -330
    },
    "id": "_42rtQ29gsL-",
    "outputId": "cdf8e9e5-4e75-4c74-c96b-3bd2ad520aff"
   },
   "outputs": [],
   "source": [
    "for name, model in models.items():\n",
    "    model.fit(x_train_dummy, y_train)\n",
    "    y_pred = model.predict(x_test_dummy)\n",
    "\n",
    "    print(f\"{name}MSE:{mean_squared_error(y_test, y_pred)} score {r2_score(y_test, y_pred)}\")"
   ]
  },
  {
   "cell_type": "markdown",
   "metadata": {
    "id": "rZosAi2IHMuk"
   },
   "source": [
    "# **Select model**\n"
   ]
  },
  {
   "cell_type": "code",
   "execution_count": null,
   "metadata": {
    "colab": {
     "base_uri": "https://localhost:8080/"
    },
    "executionInfo": {
     "elapsed": 12,
     "status": "ok",
     "timestamp": 1733666825854,
     "user": {
      "displayName": "Aakriti Hardel",
      "userId": "14054904044420853988"
     },
     "user_tz": -330
    },
    "id": "fX_hgJ2NeRup",
    "outputId": "eb558f1c-0e15-41f5-dc91-b4354bb877a3"
   },
   "outputs": [],
   "source": [
    "Dtr = DecisionTreeRegressor()\n",
    "Dtr.fit(x_train_dummy, y_train)\n",
    "Dtr.predict(x_test_dummy)"
   ]
  },
  {
   "cell_type": "markdown",
   "metadata": {
    "id": "8muyJrZ3IFFU"
   },
   "source": [
    "# **predictive system**"
   ]
  },
  {
   "cell_type": "code",
   "execution_count": null,
   "metadata": {
    "executionInfo": {
     "elapsed": 11,
     "status": "ok",
     "timestamp": 1733666825856,
     "user": {
      "displayName": "Aakriti Hardel",
      "userId": "14054904044420853988"
     },
     "user_tz": -330
    },
    "id": "4hQ_01saIEJw"
   },
   "outputs": [],
   "source": [
    "def prediction(state_Name,District_Name,temperature ,humidity,wind_speed,RAINFALL,soil_type,Area):\n",
    "  features =np.array([state_Name,District_Name,temperature,humidity,wind_speed,RAINFALL,soil_type,Area])\n",
    "  features = pd.DataFrame([features], columns=['State_Name','District_Name','temperature ©','humidity(%)','wind speed (m/s)','ANNUAL RAINFALL (mm)','soil type','Area'])\n",
    "\n",
    "  transformed_feature = preprocessing.transform(features)\n",
    "  predicted_value = Dtr.predict(transformed_feature).reshape(1,-1)\n",
    "  return predicted_value[0][0]"
   ]
  },
  {
   "cell_type": "code",
   "execution_count": null,
   "metadata": {
    "executionInfo": {
     "elapsed": 10,
     "status": "ok",
     "timestamp": 1733666825856,
     "user": {
      "displayName": "Aakriti Hardel",
      "userId": "14054904044420853988"
     },
     "user_tz": -330
    },
    "id": "oeVgrr_nIW8k"
   },
   "outputs": [],
   "source": [
    "state_Name ='Rajasthan'\n",
    "District_Name ='TONK'\n",
    "temperature =\t26.10\n",
    "humidity =41.19\n",
    "wind_speed =3.55\n",
    "RAINFALL =703.0\n",
    "soil_type ='alluvial'\n",
    "Area=255\n",
    "\n",
    "result = prediction(state_Name,District_Name,temperature,humidity,wind_speed,RAINFALL,soil_type,Area)\n"
   ]
  },
  {
   "cell_type": "code",
   "execution_count": null,
   "metadata": {
    "colab": {
     "base_uri": "https://localhost:8080/"
    },
    "executionInfo": {
     "elapsed": 10,
     "status": "ok",
     "timestamp": 1733666825856,
     "user": {
      "displayName": "Aakriti Hardel",
      "userId": "14054904044420853988"
     },
     "user_tz": -330
    },
    "id": "O6j42nB_S2Zu",
    "outputId": "f15c3e78-27f5-43a5-e1f5-1b2077300f04"
   },
   "outputs": [],
   "source": [
    "result"
   ]
  },
  {
   "cell_type": "markdown",
   "metadata": {
    "id": "StmZotLbZDk6"
   },
   "source": [
    "# **Pickel**"
   ]
  },
  {
   "cell_type": "code",
   "execution_count": null,
   "metadata": {
    "colab": {
     "base_uri": "https://localhost:8080/"
    },
    "executionInfo": {
     "elapsed": 3902,
     "status": "ok",
     "timestamp": 1733666829751,
     "user": {
      "displayName": "Aakriti Hardel",
      "userId": "14054904044420853988"
     },
     "user_tz": -330
    },
    "id": "Nj3dGzg1j6im",
    "outputId": "ad1578d1-f77a-42af-d3aa-87c1b253ffd1"
   },
   "outputs": [],
   "source": [
    "from google.colab import drive\n",
    "drive.mount('/content/drive')"
   ]
  },
  {
   "cell_type": "code",
   "execution_count": null,
   "metadata": {
    "executionInfo": {
     "elapsed": 728,
     "status": "ok",
     "timestamp": 1733667101321,
     "user": {
      "displayName": "Aakriti Hardel",
      "userId": "14054904044420853988"
     },
     "user_tz": -330
    },
    "id": "edY91szom1Ng"
   },
   "outputs": [],
   "source": [
    "import pickle\n",
    "pickle.dump(Dtr, open('Dtr.pkl', 'wb'))\n",
    "pickle.dump(preprocessing, open('preprocessor.pkl', 'wb'))"
   ]
  }
 ],
 "metadata": {
  "colab": {
   "authorship_tag": "ABX9TyMlTFUn1ypt8Z2YxhIag/py",
   "provenance": [
    {
     "file_id": "1h-YN9fFMgfbNF2Oc6rD2d50GI0icnmxL",
     "timestamp": 1733080803877
    }
   ]
  },
  "kernelspec": {
   "display_name": "Python 3 (ipykernel)",
   "language": "python",
   "name": "python3"
  },
  "language_info": {
   "codemirror_mode": {
    "name": "ipython",
    "version": 3
   },
   "file_extension": ".py",
   "mimetype": "text/x-python",
   "name": "python",
   "nbconvert_exporter": "python",
   "pygments_lexer": "ipython3",
   "version": "3.12.7"
  }
 },
 "nbformat": 4,
 "nbformat_minor": 4
}
